{
 "cells": [
  {
   "cell_type": "code",
   "execution_count": null,
   "id": "0c6dbddd-ae57-4828-a14b-75b2e4a9b8bf",
   "metadata": {
    "tags": []
   },
   "outputs": [],
   "source": [
    "a=15;\n",
    "b=yunus;\n",
    "c=15,20;"
   ]
  },
  {
   "cell_type": "code",
   "execution_count": 1,
   "id": "7b2cdb09-b56f-4403-890e-edccde7f5ee5",
   "metadata": {},
   "outputs": [
    {
     "name": "stdout",
     "output_type": "stream",
     "text": [
      "1\n",
      "4\n",
      "[1, 2, 5]\n",
      "Help on method_descriptor:\n",
      "\n",
      "append(self, object, /)\n",
      "    Append object to the end of the list.\n",
      "\n"
     ]
    }
   ],
   "source": [
    "list1=[1,2,5,8,7,6,3,4];\n",
    "type(list1)\n",
    "list2=[\"yunus\",\"ali\",\"veli\"]\n",
    "type(list2)\n",
    "deger=list1[0]\n",
    "print(deger)\n",
    "deger1=list1[-1]\n",
    "print(deger1)\n",
    "deger3=list1[0:3]\n",
    "print(deger3)\n",
    "dir(list1)\n",
    "help(list.append)\n",
    "list1.append(7)\n",
    "list1.remove(7)\n",
    "list1.reverse()\n",
    "list3=[3,9,8,5,2,4,5]\n",
    "list3.sort()\n",
    "string_int_list=[\"yunus\",\"ali\",5,8]"
   ]
  },
  {
   "cell_type": "code",
   "execution_count": 32,
   "id": "cc696525-5209-4d06-9061-f2aa52a3b038",
   "metadata": {
    "tags": []
   },
   "outputs": [
    {
     "name": "stdout",
     "output_type": "stream",
     "text": [
      "1\n",
      "2\n",
      "3\n",
      "4\n",
      "5\n",
      "6\n",
      "7\n",
      "8\n",
      "9\n",
      "10\n",
      "a\n",
      "n\n",
      "k\n",
      "a\n",
      "r\n",
      "a\n",
      " \n",
      "k\n",
      "ı\n",
      "r\n",
      "k\n",
      "k\n",
      "a\n",
      "l\n",
      "e\n",
      " \n",
      "k\n",
      "e\n",
      "s\n",
      "k\n",
      "i\n",
      "n\n",
      "-56\n"
     ]
    }
   ],
   "source": [
    "for sayı in range(1,11):\n",
    "    print(sayı)\n",
    "for sehir in \"ankara kırkkale keskin\":\n",
    "    print(sehir)\n",
    "liste= [1,4,5,6,7,8,9,6,3,24]\n",
    "sum(liste)\n",
    "liste1= [1,4,5,6,7,8,9,6,3,24,-56]\n",
    "\n",
    "minm=10000\n",
    "\n",
    "for each in liste1:\n",
    "    \n",
    "    if(each<minm):\n",
    "        \n",
    "        minm=each\n",
    "        \n",
    "    else:\n",
    "        \n",
    "        continue \n",
    "        \n",
    "print(min)     "
   ]
  },
  {
   "cell_type": "code",
   "execution_count": 37,
   "id": "d0f2bbc0-0112-4a8c-9076-e1be3036b90e",
   "metadata": {
    "tags": []
   },
   "outputs": [
    {
     "name": "stdout",
     "output_type": "stream",
     "text": [
      "a küçüktür b\n",
      "deger liste içindedir\n"
     ]
    }
   ],
   "source": [
    "a=10\n",
    "b=20\n",
    "if(a>b):\n",
    "    print(\"a büyüktür b\")\n",
    "elif(a==b):\n",
    "    print(\"a eşitir b\")\n",
    "else:\n",
    "    print(\"a küçüktür b\")\n",
    "\n",
    "liste=[1,2,5,4,7]\n",
    "deger= 7\n",
    "\n",
    "if deger in liste:\n",
    "    print(\"deger liste içindedir\".format(deger))\n",
    "else:\n",
    "    print(\"deger liste içinde değildir\".format(deger))\n",
    "    \n",
    "    "
   ]
  },
  {
   "cell_type": "code",
   "execution_count": null,
   "id": "f17677e6-93d3-425f-8f49-f95ff8bcb911",
   "metadata": {},
   "outputs": [],
   "source": []
  }
 ],
 "metadata": {
  "kernelspec": {
   "display_name": "Python 3 (ipykernel)",
   "language": "python",
   "name": "python3"
  },
  "language_info": {
   "codemirror_mode": {
    "name": "ipython",
    "version": 3
   },
   "file_extension": ".py",
   "mimetype": "text/x-python",
   "name": "python",
   "nbconvert_exporter": "python",
   "pygments_lexer": "ipython3",
   "version": "3.11.2"
  }
 },
 "nbformat": 4,
 "nbformat_minor": 5
}
